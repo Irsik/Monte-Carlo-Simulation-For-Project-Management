{
 "cells": [
  {
   "cell_type": "code",
   "execution_count": 1,
   "metadata": {},
   "outputs": [],
   "source": [
    "import numpy as np\n",
    "import pandas as pd\n",
    "import matplotlib.pyplot as plt\n",
    "from random import randint"
   ]
  },
  {
   "cell_type": "markdown",
   "metadata": {},
   "source": [
    "#### Usage:\n",
    "\n",
    "\n",
    "**When to Use this method?**\n",
    "\n",
    "- When our project is already measurable by a # of tickets or points.\n",
    "    * Once the project is ticketed out\n",
    "    * The project already started, mid-project, more work added to project\n",
    "       \n",
    "**What input do we need for this method?**\n",
    "- Measured project volume\n",
    "- Average project velocity\n",
    "- Calculated upper and lower bounds of the project velocity\n",
    "\n",
    "\n",
    "\n",
    "Velocity here means how many `project-related` tickets are done in a measured period of time (week, sprint, month).\n",
    "\n",
    "Let's say, the team noticed they averagely complete 6 units of project (points, tasks) in a given period of `time (week, sprint, month)`. The project is ticketed out and the team needs to understand how many `time units` they need to finish the project.\n",
    "\n",
    "Upper bound - the best case scenario of the team's velocity. \n",
    "\n",
    "Lower bound - the worst case scenario, assuming there will be uncertainty by the end of the project; or there is another project that required team's attention.\n"
   ]
  },
  {
   "cell_type": "code",
   "execution_count": 2,
   "metadata": {},
   "outputs": [
    {
     "name": "stdout",
     "output_type": "stream",
     "text": [
      "11.0\n"
     ]
    }
   ],
   "source": [
    "n = 10**5 #number of rolls (the more we roll the dice, the more approximate our result would be)\n",
    "\n",
    "# project value units in a measured period of time\n",
    "lower_velocity_bound = 4 \n",
    "upper_velocity_bound = 8\n",
    "\n",
    "#remainder of the project value units to work on\n",
    "m = 60\n",
    "\n",
    "#a list to collect simulated amount of periods of time when it reached the m-value \n",
    "total_time_periods = []\n",
    "\n",
    "'''\n",
    "Simulating the roll. Rolling dice principle. \n",
    "How many measured periods of time will it randomly take to complete the remainder of the project.\n",
    "'''\n",
    "for i in range(n):\n",
    "   \n",
    "    #imitating a dice roll between upper and lower bounds\n",
    "    def randomize():\n",
    "        return randint(lower_velocity_bound, upper_velocity_bound+1)\n",
    "    \n",
    "    #total_points is used to collect finished value units\n",
    "    total_units = 0\n",
    "    #counting how many dice rolls will it take to reach the value of m\n",
    "    number_of_time_periods = 0\n",
    "\n",
    "    #generating a roll cycle\n",
    "    while total_units < m:\n",
    "        new_roll = randomize()\n",
    "        total_units += new_roll\n",
    "        number_of_time_periods += 1\n",
    "    total_time_periods.append(number_of_time_periods)\n",
    "\n",
    "#creating a data frame with final results\n",
    "proj_df = pd.DataFrame({\"Measured Time Period\": total_time_periods, }) \n",
    "\n",
    "#95th percintile of how many Measured Time Periods it will take to finish the m-value\n",
    "print(round(np.percentile(proj_df,95),2))"
   ]
  },
  {
   "cell_type": "markdown",
   "metadata": {},
   "source": [
    "Running a `describe` command on the data frame, the result shows:\n",
    "* `count` - a number of rolls\n",
    "* `mean` - a mean value of the estimated project cost based on a number of rolls\n",
    "* `min` - the minimum value resulted from the roll\n",
    "* `25%, 50%, 75%` - the potential 25%, 50%, 75% probability\n",
    "* `max` - the maximum values resulted from the dice roll"
   ]
  },
  {
   "cell_type": "code",
   "execution_count": 3,
   "metadata": {
    "scrolled": true
   },
   "outputs": [
    {
     "name": "stdout",
     "output_type": "stream",
     "text": [
      "count    100000.000000\n",
      "mean          9.686990\n",
      "std           0.850354\n",
      "min           7.000000\n",
      "25%           9.000000\n",
      "50%          10.000000\n",
      "75%          10.000000\n",
      "max          14.000000\n",
      "Name: Measured Time Period, dtype: float64\n"
     ]
    }
   ],
   "source": [
    "print(proj_df[\"Measured Time Period\"].describe())"
   ]
  },
  {
   "cell_type": "markdown",
   "metadata": {},
   "source": [
    "Grouping the results by the total `Measured Time Period` needed (number of tries) to reach the `m`-value"
   ]
  },
  {
   "cell_type": "code",
   "execution_count": 4,
   "metadata": {},
   "outputs": [
    {
     "name": "stdout",
     "output_type": "stream",
     "text": [
      "Measured Time Period\n",
      "10    41808\n",
      "9     36406\n",
      "11    13985\n",
      "8      6083\n",
      "12     1617\n",
      "13       58\n",
      "7        42\n",
      "14        1\n",
      "Name: Measured Time Period, dtype: int64\n"
     ]
    }
   ],
   "source": [
    "print(proj_df[\"Measured Time Period\"].groupby(proj_df[\"Measured Time Period\"]).count().nlargest(20))"
   ]
  },
  {
   "cell_type": "code",
   "execution_count": null,
   "metadata": {},
   "outputs": [],
   "source": []
  }
 ],
 "metadata": {
  "kernelspec": {
   "display_name": "Python 3",
   "language": "python",
   "name": "python3"
  },
  "language_info": {
   "codemirror_mode": {
    "name": "ipython",
    "version": 3
   },
   "file_extension": ".py",
   "mimetype": "text/x-python",
   "name": "python",
   "nbconvert_exporter": "python",
   "pygments_lexer": "ipython3",
   "version": "3.8.5"
  }
 },
 "nbformat": 4,
 "nbformat_minor": 4
}
