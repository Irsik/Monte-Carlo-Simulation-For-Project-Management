{
 "cells": [
  {
   "cell_type": "markdown",
   "metadata": {},
   "source": [
    "# Gradio and Monte Carlo Simulation Demo"
   ]
  },
  {
   "cell_type": "code",
   "execution_count": 1,
   "metadata": {},
   "outputs": [],
   "source": [
    "!pip install --quiet gradio"
   ]
  },
  {
   "cell_type": "code",
   "execution_count": 2,
   "metadata": {},
   "outputs": [],
   "source": [
    "import gradio as gr\n",
    "from random import randint\n",
    "import numpy as np\n",
    "import pandas as pd\n",
    "import matplotlib.pyplot as plt"
   ]
  },
  {
   "cell_type": "markdown",
   "metadata": {},
   "source": [
    "## When to use this method? \n",
    "\n",
    "This method is best used when a project is measurable by a number of tickets or points, and the project is already ticketed out.\n",
    "\n",
    "It is also useful when the project has already begun, and more work is added to it in the middle of the project"
   ]
  },
  {
   "cell_type": "markdown",
   "metadata": {},
   "source": [
    "## Inputs Required\n",
    "\n",
    "Number of rolls - how many times dice will roll to calculate `total_project_points/randint(lower_velocity, upper_velocity)`\n",
    "\n",
    "### Velocity\n",
    "\n",
    "`Lower_Velocity` represents the slowest rate at which the team completes project work within a specific period of time, such as 3 tickets/points per sprint, week, or month, depending on the measurement method used by the team\n",
    "\n",
    "`Upper_velocity` - the fastest rate at which the team completes project work within a specific period of time, such as 8 tickets/points per sprint, week, or month, depending on the measurement method used by the team\n",
    "\n",
    "`Total_project_work` - the total amount of unfinished work in the project, which can be measured using number of tickets or points, depending on the method used by the team. \n",
    "\n",
    "**It is important to ensure that the velocity measurement (whether it is in points or tickets) is consistent with the total project work measurement.**"
   ]
  },
  {
   "cell_type": "markdown",
   "metadata": {},
   "source": [
    "## Running Time\n",
    "\n",
    "The process of running results in Gradio may take a bit longer in comparison to running it in Jupyter or as a Python Script. It is expected that an iteration of 10k rolls will take around 35 seconds."
   ]
  },
  {
   "cell_type": "code",
   "execution_count": 3,
   "metadata": {},
   "outputs": [
    {
     "name": "stdout",
     "output_type": "stream",
     "text": [
      "Running on local URL:  http://127.0.0.1:7861\n",
      "\n",
      "To create a public link, set `share=True` in `launch()`.\n"
     ]
    },
    {
     "data": {
      "text/html": [
       "<div><iframe src=\"http://127.0.0.1:7861/\" width=\"100%\" height=\"500\" allow=\"autoplay; camera; microphone; clipboard-read; clipboard-write;\" frameborder=\"0\" allowfullscreen></iframe></div>"
      ],
      "text/plain": [
       "<IPython.core.display.HTML object>"
      ]
     },
     "metadata": {},
     "output_type": "display_data"
    },
    {
     "data": {
      "text/plain": []
     },
     "execution_count": 3,
     "metadata": {},
     "output_type": "execute_result"
    }
   ],
   "source": [
    "def calculator(number_of_rolls, lower_velocity, upper_velocity, total_project_work):\n",
    "    number_of_rolls = int(number_of_rolls)\n",
    "    total_time_periods = []\n",
    "    for i in range(number_of_rolls):\n",
    "   \n",
    "        #imitating a dice roll between upper and lower bounds\n",
    "        def randomize():\n",
    "            return randint(lower_velocity, upper_velocity+1)\n",
    "    \n",
    "        #total_points is used to collect finished value units\n",
    "        total_units = 0\n",
    "        #counting how many dice rolls will it take to reach the value of m\n",
    "        number_of_time_periods = 0\n",
    "\n",
    "        #generating a roll cycle\n",
    "        while total_units < total_project_work:\n",
    "            new_roll = randomize()\n",
    "            total_units += new_roll\n",
    "            number_of_time_periods += 1\n",
    "        total_time_periods.append(number_of_time_periods)\n",
    "        \n",
    "        proj_df = pd.DataFrame({\"Measured Time Period\": total_time_periods, }) \n",
    "        \n",
    "    return (proj_df[\"Measured Time Period\"].describe()),proj_df[\"Measured Time Period\"].groupby(proj_df[\"Measured Time Period\"]).count().nlargest(20)\n",
    "        \n",
    "        \n",
    "        \n",
    "demo = gr.Interface(\n",
    "    fn = calculator,\n",
    "    inputs=[\n",
    "        gr.Number(value = 10**4),\n",
    "        gr.components.Number(label=\"Lower Bound\"),\n",
    "        gr.components.Number(label=\"Upper Bound\"),\n",
    "        gr.components.Number(label=\"Total Project Size\")\n",
    "    ],\n",
    "    outputs= [\n",
    "        gr.components.Textbox(label=\"Probability Results\"), \n",
    "        gr.components.Textbox(label=\"Count by each result\")])\n",
    "\n",
    "demo.launch()"
   ]
  }
 ],
 "metadata": {
  "kernelspec": {
   "display_name": "Python 3",
   "language": "python",
   "name": "python3"
  },
  "language_info": {
   "codemirror_mode": {
    "name": "ipython",
    "version": 3
   },
   "file_extension": ".py",
   "mimetype": "text/x-python",
   "name": "python",
   "nbconvert_exporter": "python",
   "pygments_lexer": "ipython3",
   "version": "3.8.5"
  }
 },
 "nbformat": 4,
 "nbformat_minor": 4
}
