{
 "cells": [
  {
   "cell_type": "code",
   "execution_count": 1,
   "metadata": {},
   "outputs": [],
   "source": [
    "import numpy as np\n",
    "import pandas as pd\n",
    "import matplotlib.pyplot as plt"
   ]
  },
  {
   "cell_type": "code",
   "execution_count": 12,
   "metadata": {},
   "outputs": [
    {
     "name": "stdout",
     "output_type": "stream",
     "text": [
      "   Months\n",
      "0    6.52\n",
      "1    2.56\n",
      "2    3.60\n",
      "3    1.44\n",
      "4    1.56\n"
     ]
    }
   ],
   "source": [
    "n = 10**5 # number of rolls \n",
    "proj_record = [] \n",
    "t_comp = [2, 4, 5] # projected range (months, days, points)\n",
    "t_prob = [0.3, 0.5, 0.2] #confidence level (0.3 represents 30% etc )\n",
    "\n",
    "for i in range(n): \n",
    "    '''\n",
    "    complexity can be any variable that defines uncertainty\n",
    "    0.1 means that no complexity or uncertainty is expected\n",
    "    0.9 complexity means uncertainty or potential complexity\n",
    "    '''\n",
    "    \n",
    "    complexity = round(np.random.normal(1, 0.4),2)\n",
    "    t_time = np.random.choice(t_comp, 1, p=t_prob)[0] \n",
    "\n",
    "    project_time = complexity * t_time\n",
    "\n",
    "    proj_record.append(project_time) \n",
    "\n",
    "proj_df = pd.DataFrame({\"Months\": proj_record, }) \n",
    "\n",
    "print(proj_df.head())\n"
   ]
  },
  {
   "cell_type": "code",
   "execution_count": 13,
   "metadata": {},
   "outputs": [
    {
     "data": {
      "text/plain": [
       "(array([1.0000e+01, 2.5500e+02, 8.3480e+03, 3.4225e+04, 2.8798e+04,\n",
       "        2.0030e+04, 6.8250e+03, 1.3320e+03, 1.6600e+02, 1.1000e+01]),\n",
       " array([-3.8  , -2.105, -0.41 ,  1.285,  2.98 ,  4.675,  6.37 ,  8.065,\n",
       "         9.76 , 11.455, 13.15 ]),\n",
       " <BarContainer object of 10 artists>)"
      ]
     },
     "execution_count": 13,
     "metadata": {},
     "output_type": "execute_result"
    },
    {
     "data": {
      "image/png": "[encoded data removed]",
      "text/plain": [
       "<Figure size 432x288 with 1 Axes>"
      ]
     },
     "metadata": {
      "needs_background": "light"
     },
     "output_type": "display_data"
    }
   ],
   "source": [
    "plt.hist(proj_df['Months'], bins=10)"
   ]
  },
  {
   "cell_type": "code",
   "execution_count": 14,
   "metadata": {},
   "outputs": [
    {
     "name": "stdout",
     "output_type": "stream",
     "text": [
      "count    100000.000000\n",
      "mean          3.600866\n",
      "std           1.874749\n",
      "min          -3.800000\n",
      "25%           2.160000\n",
      "50%           3.360000\n",
      "75%           4.880000\n",
      "max          13.150000\n",
      "Name: Months, dtype: float64\n"
     ]
    }
   ],
   "source": [
    "print(proj_df[\"Months\"].describe())"
   ]
  },
  {
   "cell_type": "code",
   "execution_count": 15,
   "metadata": {},
   "outputs": [
    {
     "name": "stdout",
     "output_type": "stream",
     "text": [
      "Months\n",
      "4.00    759\n",
      "3.80    673\n",
      "2.40    670\n",
      "4.20    663\n",
      "3.00    650\n",
      "3.20    650\n",
      "2.60    644\n",
      "4.40    637\n",
      "2.20    625\n",
      "2.00    622\n",
      "5.00    609\n",
      "4.80    605\n",
      "2.24    603\n",
      "2.48    584\n",
      "2.56    584\n",
      "2.64    581\n",
      "2.32    579\n",
      "2.88    576\n",
      "3.36    575\n",
      "3.04    573\n",
      "Name: Months, dtype: int64\n"
     ]
    }
   ],
   "source": [
    "print(proj_df[\"Months\"].groupby(proj_df[\"Months\"]).count().nlargest(20))"
   ]
  },
  {
   "cell_type": "code",
   "execution_count": 16,
   "metadata": {},
   "outputs": [
    {
     "name": "stdout",
     "output_type": "stream",
     "text": [
      "6.92\n"
     ]
    }
   ],
   "source": [
    "print(round(np.percentile(proj_record,95),2))"
   ]
  },
  {
   "cell_type": "code",
   "execution_count": null,
   "metadata": {},
   "outputs": [],
   "source": []
  }
 ],
 "metadata": {
  "kernelspec": {
   "display_name": "Python 3",
   "language": "python",
   "name": "python3"
  },
  "language_info": {
   "codemirror_mode": {
    "name": "ipython",
    "version": 3
   },
   "file_extension": ".py",
   "mimetype": "text/x-python",
   "name": "python",
   "nbconvert_exporter": "python",
   "pygments_lexer": "ipython3",
   "version": "3.8.5"
  }
 },
 "nbformat": 4,
 "nbformat_minor": 4
}
