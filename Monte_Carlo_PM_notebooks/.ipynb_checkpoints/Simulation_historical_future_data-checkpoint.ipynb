{
 "cells": [
  {
   "cell_type": "code",
   "execution_count": 73,
   "metadata": {},
   "outputs": [],
   "source": [
    "from random import *\n",
    "import math\n",
    "import csv\n",
    "import numpy as np\n",
    "import pandas as pd\n",
    "import matplotlib.pyplot as plt\n",
    "import seaborn as sns"
   ]
  },
  {
   "cell_type": "markdown",
   "metadata": {},
   "source": [
    "This simulation will take historical data and future data as list of lists or as csv-files. \n",
    "For this approach the  input should always match the output (days, months, points, sprints, tasks, projects)\n",
    "\n",
    "Historical -> a list of lists that we pass with: \n",
    "Task/Project Id, \n",
    "Original Estimate(months, days, points, sprints)\n",
    "Actual Estimate (months, days, points, sprints)\n",
    "\n",
    "Future -> a list of lists that passes through\n",
    "Task/Project Id, \n",
    "Predicted Estimation (months, days, points, sprints)\n"
   ]
  },
  {
   "cell_type": "code",
   "execution_count": 74,
   "metadata": {},
   "outputs": [],
   "source": [
    "def runSingleSimulation(historical,future):\n",
    "    '''\n",
    "    Runs a single simulation of future data based on historical data.\n",
    "    Input: historical = list of lists in the format: [[TaskName, estimated, actual], ...]\n",
    "            future = list of lists in the format: [[TaskName, estimated], ...]\n",
    "    '''\n",
    "    estimatedTotal=0\n",
    "    for task in future:\n",
    "        selectedEvent = historical[randint(0,len(historical)-1)]\n",
    "        velocity = int(float(selectedEvent[2]))/int(float(selectedEvent[1]))\n",
    "        estimated = velocity*task[1]\n",
    "        estimatedTotal+=estimated\n",
    "        task.append(estimated)\n",
    "    estimatedTotal=round(estimatedTotal,2)\n",
    "    #estimatedTotal=math.ceil(estimatedTotal/110) \n",
    "    return (estimatedTotal)\n"
   ]
  },
  {
   "cell_type": "code",
   "execution_count": 75,
   "metadata": {},
   "outputs": [],
   "source": [
    "def runSimulations(historical,future,n=10**5,verbose=False):\n",
    "    '''\n",
    "            Runs n simulations of future data based on historical data.\n",
    "            Input: historical = list of lists in the format: [[ProjectName, estimated, actual], ...]\n",
    "            future = list of lists in the format: [[ProjectName, estimated], ...]\n",
    "            n = number of simulations to run\n",
    "    '''\n",
    "    estTotalMult=0\n",
    "    estimations=[]\n",
    "    for task in future:\n",
    "        estTotalMult+=task[1]\n",
    "    print(\"Estimated Total: \"+str(estTotalMult))\n",
    "    for i in range(0,n):\n",
    "        estimatedTotal = runSingleSimulation(historical,future)\n",
    "        estimations.append(estimatedTotal)\n",
    "        if (verbose):\n",
    "            print (\"Trial {0:2} prediction: {1:.2f} ({2:.2f}% of estimated)\".format(i,estimatedTotal,100*estimatedTotal/estTotalMult))\n",
    "    print(\"Min:{0:.2f} ({1:.2f}% of estimated)\\nMax:{2:.2f} ({3:.2f}% of estimated)\".format(min(estimations),100*min(estimations)/estTotalMult,max(estimations),100*max(estimations)/estTotalMult))\n",
    "    return(estimations)\n"
   ]
  },
  {
   "cell_type": "code",
   "execution_count": 102,
   "metadata": {},
   "outputs": [
    {
     "name": "stdout",
     "output_type": "stream",
     "text": [
      "3.75\n"
     ]
    }
   ],
   "source": [
    "#data = runSingleSimulation([['Project_1', 4, 3], ['Project_2', 2, 3], ['Project_3', 4, 5]], [['Projected_project', 3],])\n",
    "#print(data)\n",
    "#data = runSimulations([['Project_1', 4, 3], ['Project_2', 2, 3], ['Project_3', 4, 5]], [['Projected_project', 3],])"
   ]
  },
  {
   "cell_type": "code",
   "execution_count": 101,
   "metadata": {},
   "outputs": [],
   "source": [
    "def loadFile(historicalFilename, futureFilename, verbose=False, historicalType='task'):\n",
    "    '''Input: historicalFilename, futureFilename\n",
    "            Optional: Verbose, historicalType(\"task\" or \"sprint\")\n",
    "        Output: historical, future'''\n",
    "    \n",
    "    historical = []\n",
    "    future = []\n",
    "    hasHeaders=False\n",
    "    \n",
    "    with open(historicalFilename) as csvfile:\n",
    "        sample = csvfile.read(1024)\n",
    "        sniffer = csv.Sniffer()\n",
    "        hasHeaders = csv.Sniffer().has_header(sample)\n",
    "        dialect = sniffer.sniff(sample)\n",
    "        csvfile.seek(0)\n",
    "        reader = csv.reader(csvfile, dialect)\n",
    "        firstLine=True\n",
    "        for row in reader:\n",
    "            if (hasHeaders and firstLine):\n",
    "                firstLine=False\n",
    "            else:\n",
    "                historical.append(row)\n",
    "        if (verbose):\n",
    "            print(\"Loaded {0} historical items\".format(len(historical)))\n",
    "            \n",
    "    with open(futureFilename) as csvfile:\n",
    "        sample = csvfile.read(1024)\n",
    "        hasHeaders =csv.Sniffer().has_header(sample)\n",
    "        dialect = sniffer.sniff(sample)\n",
    "        csvfile.seek(0)\n",
    "        reader = csv.reader(csvfile, dialect)\n",
    "        firstLine=True\n",
    "        for row in reader:\n",
    "            if(hasHeaders and firstLine):\n",
    "                firstLine=False\n",
    "            else:\n",
    "                future.append([row[0], int(row[1])])\n",
    "                \n",
    "    if (verbose):\n",
    "        print(\"Loaded {0} future items\".format(len(future)))\n",
    "    return(historical, future)"
   ]
  },
  {
   "cell_type": "markdown",
   "metadata": {},
   "source": [
    "To get expanded unsorted results of n simulations, change 'verbose' to 'True'"
   ]
  },
  {
   "cell_type": "code",
   "execution_count": 88,
   "metadata": {},
   "outputs": [],
   "source": [
    "def summary(data,verbose=False):\n",
    "    '''\n",
    "    Input: prediction data after running runSimulations()\n",
    "    Output: List of lists estimations and their counts: [[estimation, count], [estimation, count]...]\n",
    "    '''\n",
    "    \n",
    "    points = []\n",
    "    output=[]\n",
    "    for p in data:\n",
    "        if (p not in points):\n",
    "            points.append(p)\n",
    "    for p in points:\n",
    "        c = data.count(p)\n",
    "        output.append([p,c])\n",
    "    return(output)"
   ]
  },
  {
   "cell_type": "markdown",
   "metadata": {},
   "source": [
    "Format of the project input is ['Project_name', estimated, actual], where the last project in a list should be the one you actually need to simulate. For the simulated project, the input format is ['Project_name', 3].\n",
    "\n",
    "The format of input is equal to the format of the output, depending on how your team plans the velocity (engineer months, weeks, sprints etc)\n",
    "\n",
    "The cell below illustrates the data we are working with. It gives an upper and lower bound of the potential deviation based on how the final cost deviated from the original estimated ('projects_historic.csv'). The output here will print the original estimate of the project we want to simulate (***Estimated Total: 76***)\n",
    "\n",
    "The next two entries will output Min and Max deviation based on the historical data. \n",
    "***What does this mean?*** This means that based on the historical data, final cost of the projects were between 33% to 550% of the original estimate. The simulation will use it as a runaway for estimating the future project. "
   ]
  },
  {
   "cell_type": "code",
   "execution_count": 94,
   "metadata": {},
   "outputs": [
    {
     "name": "stdout",
     "output_type": "stream",
     "text": [
      "Estimated Total: 76\n",
      "Min:25.33 (33.33% of estimated)\n",
      "Max:418.00 (550.00% of estimated)\n",
      "215.33\n"
     ]
    }
   ],
   "source": [
    "files = loadFile('projects_historic.csv', 'projects_future.csv')\n",
    "\n",
    "estimation = runSimulations(data[0], data[1])\n",
    "summary(estimation)\n",
    "print(round(np.percentile(estimation,95),2))"
   ]
  },
  {
   "cell_type": "code",
   "execution_count": 95,
   "metadata": {},
   "outputs": [
    {
     "data": {
      "text/plain": [
       "(array([0.00551908, 0.00412163, 0.00822494, 0.00823308, 0.00557506,\n",
       "        0.00409517, 0.00276285, 0.00279033, 0.00548346, 0.00267735,\n",
       "        0.        , 0.        , 0.        , 0.        , 0.        ,\n",
       "        0.        , 0.        , 0.        , 0.        , 0.00140763]),\n",
       " array([ 25.  ,  44.65,  64.3 ,  83.95, 103.6 , 123.25, 142.9 , 162.55,\n",
       "        182.2 , 201.85, 221.5 , 241.15, 260.8 , 280.45, 300.1 , 319.75,\n",
       "        339.4 , 359.05, 378.7 , 398.35, 418.  ]),\n",
       " <BarContainer object of 20 artists>)"
      ]
     },
     "execution_count": 95,
     "metadata": {},
     "output_type": "execute_result"
    },
    {
     "data": {
      "image/png": "[encoded data removed]",
      "text/plain": [
       "<Figure size 432x288 with 1 Axes>"
      ]
     },
     "metadata": {
      "needs_background": "light"
     },
     "output_type": "display_data"
    }
   ],
   "source": [
    "list_of_single_simulations = []\n",
    "\n",
    "for i in range(10**5):\n",
    "    single_estimation = round(runSingleSimulation(files[0], files[1]))\n",
    "    list_of_single_simulations.append(single_estimation)\n",
    "\n",
    "num_bins = 20\n",
    "plt.hist(list_of_single_simulations,num_bins, density = 1, stacked=True)\n"
   ]
  },
  {
   "cell_type": "code",
   "execution_count": 96,
   "metadata": {},
   "outputs": [
    {
     "data": {
      "text/plain": [
       "<AxesSubplot:ylabel='Density'>"
      ]
     },
     "execution_count": 96,
     "metadata": {},
     "output_type": "execute_result"
    },
    {
     "data": {
      "image/png": "[encoded data removed]",
      "text/plain": [
       "<Figure size 432x288 with 1 Axes>"
      ]
     },
     "metadata": {
      "needs_background": "light"
     },
     "output_type": "display_data"
    }
   ],
   "source": [
    "sns.kdeplot(list_of_single_simulations, shade=True, color=\"g\")"
   ]
  },
  {
   "cell_type": "code",
   "execution_count": null,
   "metadata": {},
   "outputs": [],
   "source": []
  },
  {
   "cell_type": "code",
   "execution_count": null,
   "metadata": {},
   "outputs": [],
   "source": []
  }
 ],
 "metadata": {
  "kernelspec": {
   "display_name": "Python 3",
   "language": "python",
   "name": "python3"
  },
  "language_info": {
   "codemirror_mode": {
    "name": "ipython",
    "version": 3
   },
   "file_extension": ".py",
   "mimetype": "text/x-python",
   "name": "python",
   "nbconvert_exporter": "python",
   "pygments_lexer": "ipython3",
   "version": "3.8.5"
  }
 },
 "nbformat": 4,
 "nbformat_minor": 4
}
