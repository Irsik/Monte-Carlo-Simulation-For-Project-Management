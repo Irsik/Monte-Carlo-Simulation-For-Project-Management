{
 "cells": [
  {
   "cell_type": "code",
   "execution_count": 1,
   "metadata": {},
   "outputs": [],
   "source": [
    "from random import *\n",
    "import math\n",
    "import csv\n",
    "import numpy as np"
   ]
  },
  {
   "cell_type": "markdown",
   "metadata": {},
   "source": [
    "This simulation will take historical data and future data as list of lists. \n",
    "For this sprint the measurement of the input should always match the expected output (days, months, points, sprints, tasks, projects)\n",
    "\n",
    "Historical -> a list of lists that passes through \n",
    "Task/Project Id, \n",
    "Original Estimate(months, days, points, sprints)\n",
    "Actual Estimate (months, days, points, sprints)\n",
    "\n",
    "Future -> a list of lists that passes through\n",
    "Task/Project Id, \n",
    "Predicted Estimation (months, days, points, sprints)\n"
   ]
  },
  {
   "cell_type": "code",
   "execution_count": 2,
   "metadata": {},
   "outputs": [],
   "source": [
    "def runSingleSimulation(historical,future):\n",
    "    '''\n",
    "    Runs a single simulation of future data based on historical data.\n",
    "    Input: historical = list of lists in the format: [[TaskName, estimated, actual], ...]\n",
    "            future = list of lists in the format: [[TaskName, estimated], ...]\n",
    "    '''\n",
    "    estimatedTotal=0\n",
    "    for task in future:\n",
    "        selectedEvent = historical[randint(0,len(historical)-1)]\n",
    "        velocity = int(float(selectedEvent[2]))/int(float(selectedEvent[1]))\n",
    "        estimated = velocity*task[1]\n",
    "        estimatedTotal+=estimated\n",
    "        task.append(estimated)\n",
    "    estimatedTotal=round(estimatedTotal,2)\n",
    "    #estimatedTotal=math.ceil(estimatedTotal/110) \n",
    "    return (estimatedTotal)"
   ]
  },
  {
   "cell_type": "code",
   "execution_count": 3,
   "metadata": {},
   "outputs": [],
   "source": [
    "def loadFile(historicalFilename, futureFilename, verbose=False, historicalType='task'):\n",
    "    '''Input: historicalFilename, futureFilename\n",
    "            Optional: Verbose, historicalType(\"task\" or \"sprint\")\n",
    "        Output: historical, future'''\n",
    "    \n",
    "    historical = []\n",
    "    future = []\n",
    "    hasHeaders=False\n",
    "    \n",
    "    with open(historicalFilename) as csvfile:\n",
    "        sample = csvfile.read(1024)\n",
    "        sniffer = csv.Sniffer()\n",
    "        hasHeaders = csv.Sniffer().has_header(sample)\n",
    "        dialect = sniffer.sniff(sample)\n",
    "        csvfile.seek(0)\n",
    "        reader = csv.reader(csvfile, dialect)\n",
    "        firstLine=True\n",
    "        for row in reader:\n",
    "            if (hasHeaders and firstLine):\n",
    "                firstLine=False\n",
    "            else:\n",
    "                historical.append(row)\n",
    "        if (verbose):\n",
    "            print(\"Loaded {0} historical items\".format(len(historical)))\n",
    "            \n",
    "    with open(futureFilename) as csvfile:\n",
    "        sample = csvfile.read(1024)\n",
    "        hasHeaders =csv.Sniffer().has_header(sample)\n",
    "        dialect = sniffer.sniff(sample)\n",
    "        csvfile.seek(0)\n",
    "        reader = csv.reader(csvfile, dialect)\n",
    "        firstLine=True\n",
    "        for row in reader:\n",
    "            if(hasHeaders and firstLine):\n",
    "                firstLine=False\n",
    "            else:\n",
    "                future.append([row[0], int(row[1])])\n",
    "                \n",
    "    if (verbose):\n",
    "        print(\"Loaded {0} future items\".format(len(future)))\n",
    "    return(historical, future)"
   ]
  },
  {
   "cell_type": "markdown",
   "metadata": {},
   "source": [
    "To get expanded unsorted results of n simulations, change 'verbose' to 'True'"
   ]
  },
  {
   "cell_type": "code",
   "execution_count": 4,
   "metadata": {},
   "outputs": [],
   "source": [
    "def runSimulations(historical,future,n=10**5,verbose=False):\n",
    "    '''\n",
    "            Runs n simulations of future data based on historical data.\n",
    "            Input: historical = list of lists in the format: [[ProjectName, estimated, actual], ...]\n",
    "            future = list of lists in the format: [[ProjectName, estimated], ...]\n",
    "            n = number of simulations to run\n",
    "    '''\n",
    "    estTotalMult=0\n",
    "    estimations=[]\n",
    "    for task in future:\n",
    "        estTotalMult+=task[1]\n",
    "    print(\"Estimated Total: \"+str(estTotalMult))\n",
    "    for i in range(0,n):\n",
    "        estimatedTotal = runSingleSimulation(historical,future)\n",
    "        estimations.append(estimatedTotal)\n",
    "        if (verbose):\n",
    "            print (\"Trial {0:2} prediction: {1:.2f} ({2:.2f}% of estimated)\".format(i,estimatedTotal,100*estimatedTotal/estTotalMult))\n",
    "    print(\"Min:{0:.2f} ({1:.2f}% of estimated)\\nMax:{2:.2f} ({3:.2f}% of estimated)\".format(min(estimations),100*min(estimations)/estTotalMult,max(estimations),100*max(estimations)/estTotalMult))\n",
    "    return(sorted(estimations))\n"
   ]
  },
  {
   "cell_type": "code",
   "execution_count": 5,
   "metadata": {},
   "outputs": [],
   "source": [
    "def summary(data,verbose=False):\n",
    "    '''\n",
    "    Input: prediction data after running runSimulations()\n",
    "    Output: List of lists estimations and their counts: [[estimation, count], [estimation, count]...]\n",
    "    '''\n",
    "    \n",
    "    points = []\n",
    "    output=[]\n",
    "    for p in data:\n",
    "        if (p not in points):\n",
    "            points.append(p)\n",
    "    for p in points:\n",
    "        c = data.count(p)\n",
    "        output.append([p,c])\n",
    "    return(output)"
   ]
  },
  {
   "cell_type": "markdown",
   "metadata": {},
   "source": [
    "Format of the project input is ['Project_name', estimated, actual], where the last project in a list should be the one you actually need to simulate. For the simulated project, the input format is ['Project_name', 3].\n",
    "\n",
    "The format of input is equal to the format of the output, depending on how your team plans the velocity (engineer months, weeks, sprints etc)"
   ]
  },
  {
   "cell_type": "code",
   "execution_count": 6,
   "metadata": {},
   "outputs": [
    {
     "name": "stdout",
     "output_type": "stream",
     "text": [
      "Estimated Total: 76\n",
      "Min:25.33 (33.33% of estimated)\n",
      "Max:418.00 (550.00% of estimated)\n",
      "215.33\n"
     ]
    }
   ],
   "source": [
    "data = loadFile('projects_historic.csv', 'projects_future.csv')\n",
    "\n",
    "estimation = runSimulations(data[0], data[1])\n",
    "summary(estimation)\n",
    "print(round(np.percentile(estimation,95),2))"
   ]
  },
  {
   "cell_type": "code",
   "execution_count": null,
   "metadata": {},
   "outputs": [],
   "source": []
  }
 ],
 "metadata": {
  "kernelspec": {
   "display_name": "Python 3",
   "language": "python",
   "name": "python3"
  },
  "language_info": {
   "codemirror_mode": {
    "name": "ipython",
    "version": 3
   },
   "file_extension": ".py",
   "mimetype": "text/x-python",
   "name": "python",
   "nbconvert_exporter": "python",
   "pygments_lexer": "ipython3",
   "version": "3.8.5"
  }
 },
 "nbformat": 4,
 "nbformat_minor": 4
}
