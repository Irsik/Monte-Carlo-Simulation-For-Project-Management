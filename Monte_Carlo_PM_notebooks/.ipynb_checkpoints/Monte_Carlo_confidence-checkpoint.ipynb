{
 "cells": [
  {
   "cell_type": "code",
   "execution_count": 10,
   "metadata": {},
   "outputs": [],
   "source": [
    "import numpy as np\n",
    "import pandas as pd\n",
    "import matplotlib.pyplot as plt"
   ]
  },
  {
   "cell_type": "markdown",
   "metadata": {},
   "source": [
    "This simulation is based on the confidence level. \n",
    "\n",
    "The idea of this approach is that you have a list of project, 3 potential estimated timeframes for each project (lower, mid and upper bounds) and the confidence level for each estimation timeframe.\n",
    "Example: \n",
    "   * The team has a project they try to predict the cost for. \n",
    "        - 30% chance, this project can be done in 2 engineer months\n",
    "        - 40% chance, it will be done in 4 engineer months, as this sounds more realistic\n",
    "        - 30% chance, the team will need 5 engineer motnhs to finish it, in case some dependencies arise\n",
    "   \n",
    "In addition to this, we can edit the complexity level `complexity = round(np.random.normal(1, 0.4), 2)`, \n",
    "    where 0.4 represents a scale from 0.1 to 0.9 to decide if the project is complex\n"
   ]
  },
  {
   "cell_type": "code",
   "execution_count": 28,
   "metadata": {},
   "outputs": [
    {
     "name": "stdout",
     "output_type": "stream",
     "text": [
      "    Months\n",
      "0     1.64\n",
      "1     9.30\n",
      "2     3.28\n",
      "3     1.55\n",
      "4     8.60\n",
      "5     2.55\n",
      "6     1.26\n",
      "7    -0.80\n",
      "8     5.95\n",
      "9     2.52\n",
      "10    4.24\n",
      "11    3.55\n",
      "12    2.08\n",
      "13    8.90\n",
      "14    3.30\n",
      "15    7.25\n",
      "16    4.64\n",
      "17    4.04\n",
      "18    3.00\n",
      "19    1.62\n"
     ]
    }
   ],
   "source": [
    "n = 10**5 # number of rolls \n",
    "project_record = [] #a list where we save all roll results\n",
    "estimated_timeframe = [2, 4, 5] # projected range (months, days, weeks)\n",
    "estimation_probability = [0.3, 0.4, 0.3] #confidence level (0.2 represents 20% confidence )\n",
    "\n",
    "for i in range(n): \n",
    "    '''\n",
    "    complexity can be any variable that defines uncertainty\n",
    "    0.1 means that no complexity or uncertainty is expected\n",
    "    0.9 complexity means strong uncertainty or potential complexity\n",
    "    '''\n",
    "    '''\n",
    "    We seprately randomize both complexity and the estimated_cost\n",
    "    '''\n",
    "    complexity = round(np.random.normal(1, 0.5),2)\n",
    "    estimated_cost = np.random.choice(estimated_timeframe, 1, p=estimation_probability)[0] \n",
    "\n",
    "    project_time = complexity * estimated_cost\n",
    "    project_record.append(project_time) \n",
    "\n",
    "proj_df = pd.DataFrame({\"Months\": project_record, }) \n",
    "\n",
    "print(proj_df.head(20))"
   ]
  },
  {
   "cell_type": "code",
   "execution_count": 26,
   "metadata": {},
   "outputs": [
    {
     "data": {
      "text/plain": [
       "(array([4.96277916e-05, 9.92555831e-05, 1.98511166e-04, 5.95533499e-04,\n",
       "        8.68486352e-04, 1.26550868e-03, 2.53101737e-03, 4.06947891e-03,\n",
       "        7.12158809e-03, 1.26054591e-02, 2.16377171e-02, 3.97518610e-02,\n",
       "        7.03225806e-02, 1.08461538e-01, 1.45856079e-01, 1.78312655e-01,\n",
       "        1.95186104e-01, 1.92952854e-01, 1.77369727e-01, 1.60372208e-01,\n",
       "        1.54243176e-01, 1.35930521e-01, 1.26873449e-01, 1.18362283e-01,\n",
       "        1.09751861e-01, 9.74441687e-02, 8.59305211e-02, 7.32506203e-02,\n",
       "        6.15632754e-02, 4.77667494e-02, 3.89330025e-02, 2.98759305e-02,\n",
       "        2.29776675e-02, 2.04962779e-02, 1.20595533e-02, 8.46153846e-03,\n",
       "        5.53349876e-03, 4.54094293e-03, 2.70471464e-03, 1.88585608e-03,\n",
       "        1.21588089e-03, 7.94044665e-04, 4.71464020e-04, 1.98511166e-04,\n",
       "        2.23325062e-04, 1.48883375e-04, 7.44416873e-05, 0.00000000e+00,\n",
       "        2.48138958e-05, 2.48138958e-05]),\n",
       " array([-4.5  , -4.097, -3.694, -3.291, -2.888, -2.485, -2.082, -1.679,\n",
       "        -1.276, -0.873, -0.47 , -0.067,  0.336,  0.739,  1.142,  1.545,\n",
       "         1.948,  2.351,  2.754,  3.157,  3.56 ,  3.963,  4.366,  4.769,\n",
       "         5.172,  5.575,  5.978,  6.381,  6.784,  7.187,  7.59 ,  7.993,\n",
       "         8.396,  8.799,  9.202,  9.605, 10.008, 10.411, 10.814, 11.217,\n",
       "        11.62 , 12.023, 12.426, 12.829, 13.232, 13.635, 14.038, 14.441,\n",
       "        14.844, 15.247, 15.65 ]),\n",
       " <BarContainer object of 50 artists>)"
      ]
     },
     "execution_count": 26,
     "metadata": {},
     "output_type": "execute_result"
    },
    {
     "data": {
      "image/png": "[encoded data removed]",
      "text/plain": [
       "<Figure size 432x288 with 1 Axes>"
      ]
     },
     "metadata": {
      "needs_background": "light"
     },
     "output_type": "display_data"
    }
   ],
   "source": [
    "num_bins = 50\n",
    "plt.hist(proj_df,num_bins, density = 1, stacked=True)"
   ]
  },
  {
   "cell_type": "markdown",
   "metadata": {},
   "source": [
    "Running a `describe` command on the data frame, the result shows:\n",
    "* `count` - a number of rolls\n",
    "* `mean` - a mean value of the estimated project cost based on a number of rolls\n",
    "* `min` - the minimum value resulted from the roll\n",
    "* `25%, 50%, 75%` - the potential 25%, 50%, 75% probability\n",
    "* `max` - the maximum values resulted from the dice roll"
   ]
  },
  {
   "cell_type": "code",
   "execution_count": 27,
   "metadata": {},
   "outputs": [
    {
     "name": "stdout",
     "output_type": "stream",
     "text": [
      "count    100000.000000\n",
      "mean          3.695794\n",
      "std           2.282574\n",
      "min          -4.500000\n",
      "25%           2.000000\n",
      "50%           3.350000\n",
      "75%           5.200000\n",
      "max          15.650000\n",
      "Name: Months, dtype: float64\n"
     ]
    }
   ],
   "source": [
    "print(proj_df[\"Months\"].describe())"
   ]
  },
  {
   "cell_type": "markdown",
   "metadata": {},
   "source": [
    "The next line prints the 20 buckets resulting in the most dice roll outcomes, where the first column represents the value and the second column represents the number of times the value resulted in the roll dice."
   ]
  },
  {
   "cell_type": "code",
   "execution_count": 23,
   "metadata": {},
   "outputs": [
    {
     "name": "stdout",
     "output_type": "stream",
     "text": [
      "Months\n",
      "4.20    1224\n",
      "4.00    1151\n",
      "4.40    1131\n",
      "3.80    1120\n",
      "4.80    1068\n",
      "5.00     983\n",
      "5.20     859\n",
      "3.92     841\n",
      "3.84     812\n",
      "4.08     804\n",
      "4.24     791\n",
      "3.96     788\n",
      "3.88     785\n",
      "3.76     776\n",
      "4.04     774\n",
      "4.28     772\n",
      "4.12     763\n",
      "4.16     761\n",
      "3.64     744\n",
      "5.40     742\n",
      "Name: Months, dtype: int64\n"
     ]
    }
   ],
   "source": [
    "print(proj_df[\"Months\"].groupby(proj_df[\"Months\"]).count().nlargest(20))"
   ]
  },
  {
   "cell_type": "markdown",
   "metadata": {},
   "source": [
    "To answer the question: `At 95th percintile, what will the cost of this project be?`"
   ]
  },
  {
   "cell_type": "code",
   "execution_count": 24,
   "metadata": {},
   "outputs": [
    {
     "name": "stdout",
     "output_type": "stream",
     "text": [
      "6.0\n"
     ]
    }
   ],
   "source": [
    "print(round(np.percentile(proj_df,95),2))"
   ]
  },
  {
   "cell_type": "code",
   "execution_count": null,
   "metadata": {},
   "outputs": [],
   "source": []
  }
 ],
 "metadata": {
  "kernelspec": {
   "display_name": "Python 3",
   "language": "python",
   "name": "python3"
  },
  "language_info": {
   "codemirror_mode": {
    "name": "ipython",
    "version": 3
   },
   "file_extension": ".py",
   "mimetype": "text/x-python",
   "name": "python",
   "nbconvert_exporter": "python",
   "pygments_lexer": "ipython3",
   "version": "3.8.5"
  }
 },
 "nbformat": 4,
 "nbformat_minor": 4
}
