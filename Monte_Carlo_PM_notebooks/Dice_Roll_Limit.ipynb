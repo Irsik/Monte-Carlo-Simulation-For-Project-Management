{
 "cells": [
  {
   "cell_type": "code",
   "execution_count": 1,
   "metadata": {},
   "outputs": [],
   "source": [
    "import numpy as np\n",
    "import pandas as pd\n",
    "import matplotlib.pyplot as plt\n",
    "from random import randint"
   ]
  },
  {
   "cell_type": "markdown",
   "metadata": {},
   "source": [
    "#### Usage:\n",
    "\n",
    "```\n",
    "This playbook can be used after the project has been already started and the team has a feeling of the velocity.\n",
    "\n",
    "Velocity here means how many project-related tickets are done in a measured period of time (week, sprint, month).\n",
    "\n",
    "Let's say, the team noticed they averagely complete 5 measured value units of the project (points, tasks) in a measured period of time (week, sprint, month). The project is ticketed out and the team needs to understand how many measured time units the the team may need to finish the project.\n",
    "\n",
    "Upper bound - the best case scenario of the team's velocity. If 5 is the best value the team can produce - then 5 should be the upper bound.\n",
    "\n",
    "Lower bound - the worst case scenario, assuming there will be uncertainty by the end of the project; or there is another project that required team's attention.\n",
    "```"
   ]
  },
  {
   "cell_type": "code",
   "execution_count": 25,
   "metadata": {},
   "outputs": [
    {
     "name": "stdout",
     "output_type": "stream",
     "text": [
      "13.0\n"
     ]
    }
   ],
   "source": [
    "n = 10**5 #number of rolls\n",
    "\n",
    "# project value units in a measured period of time\n",
    "lower_velocity_bound = 4 \n",
    "upper_velocity_bound = 8\n",
    "\n",
    "#remainder of the project value units to work on\n",
    "m = 60\n",
    "\n",
    "#a list to collect simulated amount of periods of time when it reached the m-value \n",
    "total_time_periods = []\n",
    "\n",
    "'''\n",
    "Simulating the roll. Rolling a dice principle. \n",
    "How many measured periods of time will it randomly take to complete the remainder of the project.\n",
    "'''\n",
    "for i in range(n):\n",
    "    #imitating a dice roll between upper and lower bounds\n",
    "    def randomize():\n",
    "        return randint(upper_bound, lower_bound+1) \n",
    "    \n",
    "    #total_points is used to collect finished value project units\n",
    "    total_units = 0\n",
    "    \n",
    "    #counting how many dice rolls will it take to reach the value of m\n",
    "    number_of_time_periods = 0\n",
    "\n",
    "    #generating a roll cycle\n",
    "    while total_units < m:\n",
    "        new_roll = randomize()\n",
    "        total_units += new_roll\n",
    "        number_of_time_periods += 1\n",
    "    total_time_periods.append(number_of_time_periods)\n",
    "\n",
    "#creating a data frame with final results\n",
    "proj_df = pd.DataFrame({\"Measured Time Period\": total_time_periods, }) \n",
    "\n",
    "#95th percintile of how many Measured Time Periods it will take to finish the m-value\n",
    "print(round(np.percentile(proj_df,95),2))"
   ]
  },
  {
   "cell_type": "markdown",
   "metadata": {},
   "source": [
    "Running a `describe` command on the data frame, the result shows:\n",
    "* `count` - a number of rolls\n",
    "* `mean` - a mean value of the estimated project cost based on a number of rolls\n",
    "* `min` - the minimum value resulted from the roll\n",
    "* `25%, 50%, 75%` - the potential 25%, 50%, 75% probability\n",
    "* `max` - the maximum values resulted from the dice roll"
   ]
  },
  {
   "cell_type": "code",
   "execution_count": 27,
   "metadata": {
    "scrolled": true
   },
   "outputs": [
    {
     "name": "stdout",
     "output_type": "stream",
     "text": [
      "count    100000.000000\n",
      "mean         11.370270\n",
      "std           1.064566\n",
      "min           8.000000\n",
      "25%          11.000000\n",
      "50%          11.000000\n",
      "75%          12.000000\n",
      "max          17.000000\n",
      "Name: Measured Time Period, dtype: float64\n"
     ]
    }
   ],
   "source": [
    "print(proj_df[\"Measured Time Period\"].describe())"
   ]
  },
  {
   "cell_type": "markdown",
   "metadata": {},
   "source": [
    "Grouping the results by the total `Measured Time Period` neede to reach the `m`-value"
   ]
  },
  {
   "cell_type": "code",
   "execution_count": 32,
   "metadata": {},
   "outputs": [
    {
     "name": "stdout",
     "output_type": "stream",
     "text": [
      "Measured Time Period\n",
      "11    36461\n",
      "12    29411\n",
      "10    17797\n",
      "13    11416\n",
      "9      2451\n",
      "14     2139\n",
      "15      272\n",
      "8        36\n",
      "16       16\n",
      "17        1\n",
      "Name: Measured Time Period, dtype: int64\n"
     ]
    }
   ],
   "source": [
    "print(proj_df[\"Measured Time Period\"].groupby(proj_df[\"Measured Time Period\"]).count().nlargest(20))"
   ]
  }
 ],
 "metadata": {
  "kernelspec": {
   "display_name": "Python 3",
   "language": "python",
   "name": "python3"
  },
  "language_info": {
   "codemirror_mode": {
    "name": "ipython",
    "version": 3
   },
   "file_extension": ".py",
   "mimetype": "text/x-python",
   "name": "python",
   "nbconvert_exporter": "python",
   "pygments_lexer": "ipython3",
   "version": "3.8.5"
  }
 },
 "nbformat": 4,
 "nbformat_minor": 4
}
