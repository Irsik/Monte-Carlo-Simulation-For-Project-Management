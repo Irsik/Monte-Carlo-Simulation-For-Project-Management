{
 "cells": [
  {
   "cell_type": "code",
   "execution_count": 47,
   "metadata": {},
   "outputs": [],
   "source": [
    "import numpy as np\n",
    "import pandas as pd\n",
    "import matplotlib.pyplot as plt"
   ]
  },
  {
   "cell_type": "markdown",
   "metadata": {},
   "source": [
    "This simulation is based on the confidence level. \n",
    "\n",
    "The idea of this approach is that you have a list of project, 3 potential estimated timeframes for each project (lower, mid and upper bounds) and the confidence level for each estimation timeframe.\n",
    "Example: \n",
    "   * The team has a project they try to predict the cost for. \n",
    "        - 30% chance, this project can be done in 2 engineer months\n",
    "        - 40% chance, it will be done in 4 engineer months, as this sounds more realistic\n",
    "        - 30% chance, the team will need 5 engineer motnhs to finish it, in case some dependencies arise\n",
    "   \n",
    "In addition to this, we can edit the complexity level `complexity = round(np.random.normal(1, 0.4), 2)`, \n",
    "    where 0.4 represents a scale from 0.1 to 0.9 to decide if the project is complex\n"
   ]
  },
  {
   "cell_type": "code",
   "execution_count": 93,
   "metadata": {},
   "outputs": [
    {
     "name": "stdout",
     "output_type": "stream",
     "text": [
      "   Months\n",
      "0    5.40\n",
      "1    3.56\n",
      "2    7.20\n",
      "3    4.08\n",
      "4    1.44\n",
      "5    3.92\n",
      "6    4.20\n",
      "7    6.52\n",
      "8    6.00\n",
      "9    6.60\n"
     ]
    }
   ],
   "source": [
    "n = 10**5 # number of rolls \n",
    "project_record = [] #a list where we save all roll results\n",
    "estimated_timeframe = [2, 4, 5] # projected range (months, days, points)\n",
    "estimation_probability = [0.1, 0.7, 0.2] #confidence level (0.3 represents 30% confidence )\n",
    "\n",
    "for i in range(n): \n",
    "    '''\n",
    "    complexity can be any variable that defines uncertainty\n",
    "    0.1 means that no complexity or uncertainty is expected\n",
    "    0.9 complexity means uncertainty or potential complexity\n",
    "    '''\n",
    "    '''\n",
    "    We seprately randomize both complexity and the estimated_cost\n",
    "    '''\n",
    "    complexity = round(np.random.normal(1, 0.4),2)\n",
    "    estimated_cost = np.random.choice(estimated_timeframe, 1, p=estimation_probability)[0] \n",
    "\n",
    "    project_time = complexity * estimated_cost\n",
    "    project_record.append(project_time) \n",
    "\n",
    "proj_df = pd.DataFrame({\"Months\": project_record, }) \n",
    "\n",
    "print(proj_df.head(10))\n"
   ]
  },
  {
   "cell_type": "markdown",
   "metadata": {},
   "source": [
    "Running a `describe` command on the data frame, the result shows:\n",
    "* `count` - a number of rolls\n",
    "* `mean` - a mean value of the estimated project cost based on a number of rolls\n",
    "* `min` - the minimum value resulted from the roll\n",
    "* `25%, 50%, 75%` - the potential 25%, 50%, 75% probability\n",
    "* `max` - the maximum values resulted from the dice roll"
   ]
  },
  {
   "cell_type": "code",
   "execution_count": 96,
   "metadata": {},
   "outputs": [
    {
     "name": "stdout",
     "output_type": "stream",
     "text": [
      "count    100000.000000\n",
      "mean          3.996583\n",
      "std           1.800119\n",
      "min          -3.880000\n",
      "25%           2.680000\n",
      "50%           3.960000\n",
      "75%           5.200000\n",
      "max          13.200000\n",
      "Name: Months, dtype: float64\n"
     ]
    }
   ],
   "source": [
    "print(proj_df[\"Months\"].describe())"
   ]
  },
  {
   "cell_type": "markdown",
   "metadata": {},
   "source": [
    "The next line prints the 20 buckets resulting in the most dice roll outcomes, where the first column represents the value and the second column represents the number of times the value resulted in the roll dice."
   ]
  },
  {
   "cell_type": "code",
   "execution_count": 99,
   "metadata": {},
   "outputs": [
    {
     "name": "stdout",
     "output_type": "stream",
     "text": [
      "Months\n",
      "4.40    924\n",
      "4.20    884\n",
      "3.80    841\n",
      "4.00    829\n",
      "5.00    823\n",
      "4.80    786\n",
      "3.00    750\n",
      "3.20    748\n",
      "5.20    744\n",
      "4.08    739\n",
      "3.44    733\n",
      "4.24    732\n",
      "4.12    730\n",
      "3.72    724\n",
      "3.40    721\n",
      "2.60    713\n",
      "4.04    706\n",
      "4.36    705\n",
      "3.92    703\n",
      "3.96    702\n",
      "Name: Months, dtype: int64\n"
     ]
    }
   ],
   "source": [
    "print(proj_df[\"Months\"].groupby(proj_df[\"Months\"]).count().nlargest(20))"
   ]
  },
  {
   "cell_type": "markdown",
   "metadata": {},
   "source": [
    "To answer the question: `At 95th percintile, what will the cost of this project be?`"
   ]
  },
  {
   "cell_type": "code",
   "execution_count": 90,
   "metadata": {},
   "outputs": [
    {
     "name": "stdout",
     "output_type": "stream",
     "text": [
      "7.05\n"
     ]
    }
   ],
   "source": [
    "print(round(np.percentile(proj_record,95),2))"
   ]
  }
 ],
 "metadata": {
  "kernelspec": {
   "display_name": "Python 3",
   "language": "python",
   "name": "python3"
  },
  "language_info": {
   "codemirror_mode": {
    "name": "ipython",
    "version": 3
   },
   "file_extension": ".py",
   "mimetype": "text/x-python",
   "name": "python",
   "nbconvert_exporter": "python",
   "pygments_lexer": "ipython3",
   "version": "3.8.5"
  }
 },
 "nbformat": 4,
 "nbformat_minor": 4
}
