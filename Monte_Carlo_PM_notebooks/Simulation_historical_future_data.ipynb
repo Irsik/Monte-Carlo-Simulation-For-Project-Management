{
 "cells": [
  {
   "cell_type": "code",
   "execution_count": 19,
   "metadata": {},
   "outputs": [],
   "source": [
    "from random import *\n",
    "import math\n",
    "import csv\n",
    "import numpy as np\n",
    "import pandas as pd\n",
    "import matplotlib.pyplot as plt\n",
    "import seaborn as sns"
   ]
  },
  {
   "cell_type": "markdown",
   "metadata": {},
   "source": [
    "This simulation will take historical data and future data as list of lists or as csv-files. \n",
    "For this approach the  input should always match the output (days, months, points, sprints, tasks, projects)\n",
    "\n",
    "Historical -> a list of lists that we pass with: \n",
    "Task/Project Id, \n",
    "Original Estimate(months, days, points, sprints)\n",
    "Actual Estimate (months, days, points, sprints)\n",
    "\n",
    "Future -> a list of lists that passes through\n",
    "Task/Project Id, \n",
    "Predicted Estimation (months, days, points, sprints)\n"
   ]
  },
  {
   "cell_type": "code",
   "execution_count": 30,
   "metadata": {},
   "outputs": [],
   "source": [
    "def runSingleSimulation(historical,future,n=10**5 ):\n",
    "    '''\n",
    "    Runs a single simulation of future data based on historical data.\n",
    "    Input: historical = list of lists in the format: [[TaskName, estimated, actual], ...]\n",
    "            future = list of lists in the format: [[TaskName, estimated], ...]\n",
    "    '''\n",
    "    estimatedTotal=0\n",
    "    for task in future:\n",
    "        selectedEvent = historical[randint(0,len(historical)-1)]\n",
    "        velocity = int(float(selectedEvent[2]))/int(float(selectedEvent[1]))\n",
    "        estimated = velocity*task[1]\n",
    "        estimatedTotal+=estimated\n",
    "        task.append(estimated)\n",
    "    estimatedTotal=round(estimatedTotal,2)\n",
    "    #estimatedTotal=math.ceil(estimatedTotal/110) \n",
    "    return (estimatedTotal)\n"
   ]
  },
  {
   "cell_type": "code",
   "execution_count": 37,
   "metadata": {},
   "outputs": [],
   "source": [
    "def runSimulations(historical,future,n=10**5,verbose=False):\n",
    "    '''\n",
    "            Runs n simulations of future data based on historical data.\n",
    "            Input: historical = list of lists in the format: [[ProjectName, estimated, actual], ...]\n",
    "            future = list of lists in the format: [[ProjectName, estimated], ...]\n",
    "            n = number of simulations to run\n",
    "    '''\n",
    "    estTotalMult=0\n",
    "    estimations=[]\n",
    "    for task in future:\n",
    "        estTotalMult+=task[1]\n",
    "    print(\"Estimated Total: \"+str(estTotalMult))\n",
    "    for i in range(0,n):\n",
    "        estimatedTotal = runSingleSimulation(historical,future)\n",
    "        estimations.append(estimatedTotal)\n",
    "        if (verbose):\n",
    "            print (\"Trial {0:2} prediction: {1:.2f} ({2:.2f}% of estimated)\".format(i,estimatedTotal,100*estimatedTotal/estTotalMult))\n",
    "    print(\"Min:{0:.2f} ({1:.2f}% of estimated)\\nMax:{2:.2f} ({3:.2f}% of estimated)\".format(min(estimations),100*min(estimations)/estTotalMult,max(estimations),100*max(estimations)/estTotalMult))\n",
    "    return(sorted(estimations))"
   ]
  },
  {
   "cell_type": "code",
   "execution_count": 46,
   "metadata": {},
   "outputs": [
    {
     "name": "stdout",
     "output_type": "stream",
     "text": [
      "Estimated Total: 3\n",
      "Min:2.25 (75.00% of estimated)\n",
      "Max:4.50 (150.00% of estimated)\n"
     ]
    }
   ],
   "source": [
    "#data = runSingleSimulation([['Project_1', 4, 3], ['Project_2', 2, 3], ['Project_3', 4, 5]], [['Projected_project', 3],])\n",
    "#print(data)\n",
    "data = runSimulations([['Project_1', 4, 3], ['Project_2', 2, 3], ['Project_3', 4, 5]], [['Projected_project', 3],])"
   ]
  },
  {
   "cell_type": "code",
   "execution_count": 47,
   "metadata": {},
   "outputs": [],
   "source": [
    "def loadFile(historicalFilename, futureFilename, verbose=False, historicalType='task'):\n",
    "    '''Input: historicalFilename, futureFilename\n",
    "            Optional: Verbose, historicalType(\"task\" or \"sprint\")\n",
    "        Output: historical, future'''\n",
    "    \n",
    "    historical = []\n",
    "    future = []\n",
    "    hasHeaders=False\n",
    "    \n",
    "    with open(historicalFilename) as csvfile:\n",
    "        sample = csvfile.read(1024)\n",
    "        sniffer = csv.Sniffer()\n",
    "        hasHeaders = csv.Sniffer().has_header(sample)\n",
    "        dialect = sniffer.sniff(sample)\n",
    "        csvfile.seek(0)\n",
    "        reader = csv.reader(csvfile, dialect)\n",
    "        firstLine=True\n",
    "        for row in reader:\n",
    "            if (hasHeaders and firstLine):\n",
    "                firstLine=False\n",
    "            else:\n",
    "                historical.append(row)\n",
    "        if (verbose):\n",
    "            print(\"Loaded {0} historical items\".format(len(historical)))\n",
    "            \n",
    "    with open(futureFilename) as csvfile:\n",
    "        sample = csvfile.read(1024)\n",
    "        hasHeaders =csv.Sniffer().has_header(sample)\n",
    "        dialect = sniffer.sniff(sample)\n",
    "        csvfile.seek(0)\n",
    "        reader = csv.reader(csvfile, dialect)\n",
    "        firstLine=True\n",
    "        for row in reader:\n",
    "            if(hasHeaders and firstLine):\n",
    "                firstLine=False\n",
    "            else:\n",
    "                future.append([row[0], int(row[1])])\n",
    "                \n",
    "    if (verbose):\n",
    "        print(\"Loaded {0} future items\".format(len(future)))\n",
    "    return(historical, future)"
   ]
  },
  {
   "cell_type": "markdown",
   "metadata": {},
   "source": [
    "To get expanded unsorted results of n simulations, change 'verbose' to 'True'"
   ]
  },
  {
   "cell_type": "code",
   "execution_count": 48,
   "metadata": {},
   "outputs": [],
   "source": [
    "def summary(data,verbose=False):\n",
    "    '''\n",
    "    Input: prediction data after running runSimulations()\n",
    "    Output: List of lists estimations and their counts: [[estimation, count], [estimation, count]...]\n",
    "    '''\n",
    "    \n",
    "    points = []\n",
    "    output=[]\n",
    "    for p in data:\n",
    "        if (p not in points):\n",
    "            points.append(p)\n",
    "    for p in points:\n",
    "        c = data.count(p)\n",
    "        output.append([p,c])\n",
    "    return(output)"
   ]
  },
  {
   "cell_type": "markdown",
   "metadata": {},
   "source": [
    "Format of the project input is ['Project_name', estimated, actual], where the last project in a list should be the one you actually need to simulate. For the simulated project, the input format is ['Project_name', 3].\n",
    "\n",
    "The format of input is equal to the format of the output, depending on how your team plans the velocity (engineer months, weeks, sprints etc)\n",
    "\n",
    "The cell below illustrates the data we are working with. It gives an upper and lower bound of the potential deviation based on how the final cost deviated from the original estimated ('projects_historic.csv'). The output here will print the original estimate of the project we want to simulate (***Estimated Total: 76***)\n",
    "\n",
    "The next two entries will output Min and Max deviation based on the historical data. \n",
    "***What does this mean?*** This means that based on the historical data, final cost of the projects were between 33% to 550% of the original estimate. The simulation will use it as a runaway for estimating the future project. "
   ]
  },
  {
   "cell_type": "code",
   "execution_count": 49,
   "metadata": {},
   "outputs": [
    {
     "ename": "TypeError",
     "evalue": "'float' object is not iterable",
     "output_type": "error",
     "traceback": [
      "\u001b[0;31m---------------------------------------------------------------------------\u001b[0m",
      "\u001b[0;31mTypeError\u001b[0m                                 Traceback (most recent call last)",
      "\u001b[0;32m<ipython-input-49-36f2c0b0f17e>\u001b[0m in \u001b[0;36m<module>\u001b[0;34m\u001b[0m\n\u001b[1;32m      1\u001b[0m \u001b[0mfiles\u001b[0m \u001b[0;34m=\u001b[0m \u001b[0mloadFile\u001b[0m\u001b[0;34m(\u001b[0m\u001b[0;34m'projects_historic.csv'\u001b[0m\u001b[0;34m,\u001b[0m \u001b[0;34m'projects_future.csv'\u001b[0m\u001b[0;34m)\u001b[0m\u001b[0;34m\u001b[0m\u001b[0;34m\u001b[0m\u001b[0m\n\u001b[1;32m      2\u001b[0m \u001b[0;34m\u001b[0m\u001b[0m\n\u001b[0;32m----> 3\u001b[0;31m \u001b[0mestimation\u001b[0m \u001b[0;34m=\u001b[0m \u001b[0mrunSimulations\u001b[0m\u001b[0;34m(\u001b[0m\u001b[0mdata\u001b[0m\u001b[0;34m[\u001b[0m\u001b[0;36m0\u001b[0m\u001b[0;34m]\u001b[0m\u001b[0;34m,\u001b[0m \u001b[0mdata\u001b[0m\u001b[0;34m[\u001b[0m\u001b[0;36m1\u001b[0m\u001b[0;34m]\u001b[0m\u001b[0;34m)\u001b[0m\u001b[0;34m\u001b[0m\u001b[0;34m\u001b[0m\u001b[0m\n\u001b[0m\u001b[1;32m      4\u001b[0m \u001b[0msummary\u001b[0m\u001b[0;34m(\u001b[0m\u001b[0mestimation\u001b[0m\u001b[0;34m)\u001b[0m\u001b[0;34m\u001b[0m\u001b[0;34m\u001b[0m\u001b[0m\n\u001b[1;32m      5\u001b[0m \u001b[0mprint\u001b[0m\u001b[0;34m(\u001b[0m\u001b[0mround\u001b[0m\u001b[0;34m(\u001b[0m\u001b[0mnp\u001b[0m\u001b[0;34m.\u001b[0m\u001b[0mpercentile\u001b[0m\u001b[0;34m(\u001b[0m\u001b[0mestimation\u001b[0m\u001b[0;34m,\u001b[0m\u001b[0;36m95\u001b[0m\u001b[0;34m)\u001b[0m\u001b[0;34m,\u001b[0m\u001b[0;36m2\u001b[0m\u001b[0;34m)\u001b[0m\u001b[0;34m)\u001b[0m\u001b[0;34m\u001b[0m\u001b[0;34m\u001b[0m\u001b[0m\n",
      "\u001b[0;32m<ipython-input-37-f42fe00dd5b1>\u001b[0m in \u001b[0;36mrunSimulations\u001b[0;34m(historical, future, n, verbose)\u001b[0m\n\u001b[1;32m      8\u001b[0m     \u001b[0mestTotalMult\u001b[0m\u001b[0;34m=\u001b[0m\u001b[0;36m0\u001b[0m\u001b[0;34m\u001b[0m\u001b[0;34m\u001b[0m\u001b[0m\n\u001b[1;32m      9\u001b[0m     \u001b[0mestimations\u001b[0m\u001b[0;34m=\u001b[0m\u001b[0;34m[\u001b[0m\u001b[0;34m]\u001b[0m\u001b[0;34m\u001b[0m\u001b[0;34m\u001b[0m\u001b[0m\n\u001b[0;32m---> 10\u001b[0;31m     \u001b[0;32mfor\u001b[0m \u001b[0mtask\u001b[0m \u001b[0;32min\u001b[0m \u001b[0mfuture\u001b[0m\u001b[0;34m:\u001b[0m\u001b[0;34m\u001b[0m\u001b[0;34m\u001b[0m\u001b[0m\n\u001b[0m\u001b[1;32m     11\u001b[0m         \u001b[0mestTotalMult\u001b[0m\u001b[0;34m+=\u001b[0m\u001b[0mtask\u001b[0m\u001b[0;34m[\u001b[0m\u001b[0;36m1\u001b[0m\u001b[0;34m]\u001b[0m\u001b[0;34m\u001b[0m\u001b[0;34m\u001b[0m\u001b[0m\n\u001b[1;32m     12\u001b[0m     \u001b[0mprint\u001b[0m\u001b[0;34m(\u001b[0m\u001b[0;34m\"Estimated Total: \"\u001b[0m\u001b[0;34m+\u001b[0m\u001b[0mstr\u001b[0m\u001b[0;34m(\u001b[0m\u001b[0mestTotalMult\u001b[0m\u001b[0;34m)\u001b[0m\u001b[0;34m)\u001b[0m\u001b[0;34m\u001b[0m\u001b[0;34m\u001b[0m\u001b[0m\n",
      "\u001b[0;31mTypeError\u001b[0m: 'float' object is not iterable"
     ]
    }
   ],
   "source": [
    "files = loadFile('projects_historic.csv', 'projects_future.csv')\n",
    "\n",
    "estimation = runSimulations(data[0], data[1])\n",
    "summary(estimation)\n",
    "print(round(np.percentile(estimation,95),2))"
   ]
  },
  {
   "cell_type": "code",
   "execution_count": 45,
   "metadata": {},
   "outputs": [
    {
     "data": {
      "text/plain": [
       "(array([0.00548142, 0.00420916, 0.00818372, 0.00815267, 0.00561425,\n",
       "        0.00413028, 0.00267939, 0.00274606, 0.00559288, 0.00273791,\n",
       "        0.        , 0.        , 0.        , 0.        , 0.        ,\n",
       "        0.        , 0.        , 0.        , 0.        , 0.00136285]),\n",
       " array([ 25.  ,  44.65,  64.3 ,  83.95, 103.6 , 123.25, 142.9 , 162.55,\n",
       "        182.2 , 201.85, 221.5 , 241.15, 260.8 , 280.45, 300.1 , 319.75,\n",
       "        339.4 , 359.05, 378.7 , 398.35, 418.  ]),\n",
       " <BarContainer object of 20 artists>)"
      ]
     },
     "execution_count": 45,
     "metadata": {},
     "output_type": "execute_result"
    },
    {
     "data": {
      "image/png": "[encoded data removed]",
      "text/plain": [
       "<Figure size 432x288 with 1 Axes>"
      ]
     },
     "metadata": {
      "needs_background": "light"
     },
     "output_type": "display_data"
    }
   ],
   "source": [
    "list_of_single_simulations = []\n",
    "\n",
    "for i in range(10**5):\n",
    "    single_estimation = round(runSingleSimulation(files[0], files[1]))\n",
    "    list_of_single_simulations.append(single_estimation)\n",
    "\n",
    "num_bins = 20\n",
    "plt.hist(list_of_single_simulations,num_bins, density = 1, stacked=True)\n"
   ]
  },
  {
   "cell_type": "code",
   "execution_count": 96,
   "metadata": {},
   "outputs": [
    {
     "data": {
      "text/plain": [
       "<AxesSubplot:ylabel='Density'>"
      ]
     },
     "execution_count": 96,
     "metadata": {},
     "output_type": "execute_result"
    },
    {
     "data": {
      "image/png": "[encoded data removed]",
      "text/plain": [
       "<Figure size 432x288 with 1 Axes>"
      ]
     },
     "metadata": {
      "needs_background": "light"
     },
     "output_type": "display_data"
    }
   ],
   "source": [
    "sns.kdeplot(list_of_single_simulations, shade=True, color=\"g\")"
   ]
  },
  {
   "cell_type": "code",
   "execution_count": null,
   "metadata": {},
   "outputs": [],
   "source": []
  },
  {
   "cell_type": "code",
   "execution_count": null,
   "metadata": {},
   "outputs": [],
   "source": []
  }
 ],
 "metadata": {
  "kernelspec": {
   "display_name": "Python 3",
   "language": "python",
   "name": "python3"
  },
  "language_info": {
   "codemirror_mode": {
    "name": "ipython",
    "version": 3
   },
   "file_extension": ".py",
   "mimetype": "text/x-python",
   "name": "python",
   "nbconvert_exporter": "python",
   "pygments_lexer": "ipython3",
   "version": "3.8.5"
  }
 },
 "nbformat": 4,
 "nbformat_minor": 4
}
