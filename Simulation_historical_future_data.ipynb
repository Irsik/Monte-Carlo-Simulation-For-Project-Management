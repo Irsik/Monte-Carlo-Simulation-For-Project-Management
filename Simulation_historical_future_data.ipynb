{
 "cells": [
  {
   "cell_type": "code",
   "execution_count": 41,
   "metadata": {},
   "outputs": [],
   "source": [
    "from random import *\n",
    "import math\n",
    "from matplotlib.pyplot import *\n",
    "import csv"
   ]
  },
  {
   "cell_type": "markdown",
   "metadata": {},
   "source": [
    "This simulation will take historical data and future data as list of lists. \n",
    "For this sprint the measurement of the input should always match the expected output (days, months, points, sprints, tasks, projects)\n",
    "\n",
    "Historical -> a list of lists that passes through \n",
    "Task/Project Id, \n",
    "Original Estimate(months, days, points, sprints)\n",
    "Actual Estimate (months, days, points, sprints)\n",
    "\n",
    "Future -> a list of lists that passes through\n",
    "Task/Project Id, \n",
    "Predicted Estimation (months, days, points, sprints)\n"
   ]
  },
  {
   "cell_type": "code",
   "execution_count": 42,
   "metadata": {},
   "outputs": [],
   "source": [
    "def runSingleSimulation(historical,future):\n",
    "    '''\n",
    "    Runs a single simulation of future data based on historical data.\n",
    "    Input: historical = list of lists in the format: [[TaskName, estimated, actual], ...]\n",
    "            future = list of lists in the format: [[TaskName, estimated], ...]\n",
    "    '''\n",
    "    estimatedTotal=0\n",
    "    for task in future:\n",
    "        selectedEvent = historical[randint(0,len(historical)-1)]\n",
    "        velocity = selectedEvent[2]/selectedEvent[1]\n",
    "        estimated = velocity*task[1]\n",
    "        estimatedTotal+=estimated\n",
    "        task.append(estimated)\n",
    "    estimatedTotal=round(estimatedTotal,2)\n",
    "    #estimatedTotal=math.ceil(estimatedTotal/110) \n",
    "    return (estimatedTotal)"
   ]
  },
  {
   "cell_type": "markdown",
   "metadata": {},
   "source": [
    "To get expanded unsorted results of n simulations, change 'expanded' to 'True'"
   ]
  },
  {
   "cell_type": "code",
   "execution_count": 43,
   "metadata": {},
   "outputs": [],
   "source": [
    "def runSimulations(historical,future,n=10**5,expanded=False):\n",
    "    '''\n",
    "            Runs n simulations of future data based on historical data.\n",
    "            Input: historical = list of lists in the format: [[ProjectName, estimated, actual], ...]\n",
    "            future = list of lists in the format: [[ProjectName, estimated], ...]\n",
    "            n = number of simulations to run\n",
    "    '''\n",
    "    estTotalMult=0\n",
    "    estimations=[]\n",
    "    for task in future:\n",
    "        estTotalMult+=task[1]\n",
    "    print(\"Estimated Total: \"+str(estTotalMult))\n",
    "    for i in range(0,n):\n",
    "        estimatedTotal = runSingleSimulation(historical,future)\n",
    "        estimations.append(estimatedTotal)\n",
    "        if (expanded):\n",
    "            print (\"Trial {0:2} prediction: {1:.2f} ({2:.2f}% of estimated)\".format(i,estimatedTotal,100*estimatedTotal/estTotalMult))\n",
    "    print(\"Min:{0:.2f} ({1:.2f}% of estimated)\\nMax:{2:.2f} ({3:.2f}% of estimated)\".format(min(estimations),100*min(estimations)/estTotalMult,max(estimations),100*max(estimations)/estTotalMult))\n",
    "    return(sorted(estimations))\n"
   ]
  },
  {
   "cell_type": "code",
   "execution_count": 44,
   "metadata": {},
   "outputs": [],
   "source": [
    "def summary(data,verbose=False):\n",
    "    '''\n",
    "    Input: prediction data after running runSimulations()\n",
    "    Output: List of lists estimations and their counts: [[estimation, count], [estimation, count]...]\n",
    "    '''\n",
    "    \n",
    "    points = []\n",
    "    output=[]\n",
    "    for p in data:\n",
    "        if (p not in points):\n",
    "            points.append(p)\n",
    "    for p in points:\n",
    "        c = data.count(p)\n",
    "        output.append([p,c])\n",
    "    return(output)"
   ]
  },
  {
   "cell_type": "code",
   "execution_count": 46,
   "metadata": {},
   "outputs": [
    {
     "name": "stdout",
     "output_type": "stream",
     "text": [
      "Estimated Total: 3\n",
      "Min:3.75 (125.00% of estimated)\n",
      "Max:5.25 (175.00% of estimated)\n"
     ]
    },
    {
     "data": {
      "text/plain": [
       "[[3.75, 33292], [4.5, 33208], [5.25, 33500]]"
      ]
     },
     "execution_count": 46,
     "metadata": {},
     "output_type": "execute_result"
    }
   ],
   "source": [
    "data = runSimulations([['Project_1', 4, 5], ['Project_2', 2, 3], ['Project_3', 4, 7]], [['Projected_project', 3],])\n",
    "summary(data)"
   ]
  },
  {
   "cell_type": "code",
   "execution_count": null,
   "metadata": {},
   "outputs": [],
   "source": []
  },
  {
   "cell_type": "code",
   "execution_count": null,
   "metadata": {},
   "outputs": [],
   "source": []
  }
 ],
 "metadata": {
  "kernelspec": {
   "display_name": "Python 3",
   "language": "python",
   "name": "python3"
  },
  "language_info": {
   "codemirror_mode": {
    "name": "ipython",
    "version": 3
   },
   "file_extension": ".py",
   "mimetype": "text/x-python",
   "name": "python",
   "nbconvert_exporter": "python",
   "pygments_lexer": "ipython3",
   "version": "3.8.5"
  }
 },
 "nbformat": 4,
 "nbformat_minor": 4
}
