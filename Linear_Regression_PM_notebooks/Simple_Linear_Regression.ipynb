{
 "cells": [
  {
   "cell_type": "code",
   "execution_count": 1,
   "metadata": {},
   "outputs": [],
   "source": [
    "import pandas as pd\n",
    "import statsmodels.api as sm\n",
    "from termcolor import colored as cl"
   ]
  },
  {
   "cell_type": "code",
   "execution_count": 2,
   "metadata": {},
   "outputs": [],
   "source": [
    "data = pd.read_csv('projects.csv')\n",
    "\n",
    "\n",
    "x_var = data[['Estimate']] # independent variable\n",
    "y_var = data['Final'] # dependent variable"
   ]
  },
  {
   "cell_type": "markdown",
   "metadata": {},
   "source": [
    "Fit and summary"
   ]
  },
  {
   "cell_type": "code",
   "execution_count": 3,
   "metadata": {},
   "outputs": [
    {
     "name": "stdout",
     "output_type": "stream",
     "text": [
      "\u001b[1m                                 OLS Regression Results                                \n",
      "=======================================================================================\n",
      "Dep. Variable:                  Final   R-squared (uncentered):                   0.756\n",
      "Model:                            OLS   Adj. R-squared (uncentered):              0.750\n",
      "Method:                 Least Squares   F-statistic:                              111.7\n",
      "Date:                Tue, 23 Nov 2021   Prob (F-statistic):                    1.38e-12\n",
      "Time:                        13:28:09   Log-Likelihood:                         -134.71\n",
      "No. Observations:                  37   AIC:                                      271.4\n",
      "Df Residuals:                      36   BIC:                                      273.0\n",
      "Df Model:                           1                                                  \n",
      "Covariance Type:            nonrobust                                                  \n",
      "==============================================================================\n",
      "                 coef    std err          t      P>|t|      [0.025      0.975]\n",
      "------------------------------------------------------------------------------\n",
      "Estimate       1.4115      0.134     10.571      0.000       1.141       1.682\n",
      "==============================================================================\n",
      "Omnibus:                        7.595   Durbin-Watson:                   1.986\n",
      "Prob(Omnibus):                  0.022   Jarque-Bera (JB):                8.250\n",
      "Skew:                           0.558   Prob(JB):                       0.0162\n",
      "Kurtosis:                       5.026   Cond. No.                         1.00\n",
      "==============================================================================\n",
      "\n",
      "Notes:\n",
      "[1] R² is computed without centering (uncentered) since the model does not contain a constant.\n",
      "[2] Standard Errors assume that the covariance matrix of the errors is correctly specified.\u001b[0m\n"
     ]
    }
   ],
   "source": [
    "slr_model = sm.OLS(y_var, x_var) # Ordinary Least Squares \n",
    "slr_reg = slr_model.fit()\n",
    "print(cl(slr_reg.summary(),attrs = ['bold']))"
   ]
  },
  {
   "cell_type": "code",
   "execution_count": 4,
   "metadata": {},
   "outputs": [
    {
     "name": "stdout",
     "output_type": "stream",
     "text": [
      "Parameters:  Estimate    1.411537\n",
      "dtype: float64\n",
      "R2:  0.7563365048110292\n"
     ]
    }
   ],
   "source": [
    "print(\"Parameters: \", slr_reg.params)\n",
    "print(\"R2: \", slr_reg.rsquared)"
   ]
  },
  {
   "cell_type": "markdown",
   "metadata": {},
   "source": [
    "This model has been trained based on the historical data that we fed it with. Based on the results, 75.6% variation in y (final cost) is explained by X (original estimate). \n",
    "\n",
    "Based on the OLS Regression Results, in order to calculate the cost for the future projects we should multiply the estimated deadline on the Estimate coef, which is **1.41**\n",
    "\n",
    "To predict future 'Final' cost of the project, we create a function."
   ]
  },
  {
   "cell_type": "code",
   "execution_count": 5,
   "metadata": {},
   "outputs": [],
   "source": [
    "def prediction(estimate):\n",
    "    coefficient = slr_reg.params[0]\n",
    "    formula = coefficient*estimate\n",
    "    return formula"
   ]
  },
  {
   "cell_type": "code",
   "execution_count": 6,
   "metadata": {},
   "outputs": [
    {
     "data": {
      "text/plain": [
       "16.938442723196083"
      ]
     },
     "execution_count": 6,
     "metadata": {},
     "output_type": "execute_result"
    }
   ],
   "source": [
    "prediction(12)"
   ]
  }
 ],
 "metadata": {
  "kernelspec": {
   "display_name": "Python 3",
   "language": "python",
   "name": "python3"
  },
  "language_info": {
   "codemirror_mode": {
    "name": "ipython",
    "version": 3
   },
   "file_extension": ".py",
   "mimetype": "text/x-python",
   "name": "python",
   "nbconvert_exporter": "python",
   "pygments_lexer": "ipython3",
   "version": "3.8.5"
  }
 },
 "nbformat": 4,
 "nbformat_minor": 4
}
