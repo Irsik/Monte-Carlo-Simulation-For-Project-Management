{
 "cells": [
  {
   "cell_type": "markdown",
   "metadata": {},
   "source": [
    "## Multiple Linear Regression"
   ]
  },
  {
   "cell_type": "code",
   "execution_count": 1,
   "metadata": {},
   "outputs": [],
   "source": [
    "import numpy as np\n",
    "import matplotlib.pyplot as plt\n",
    "import pandas as pd\n",
    "import statsmodels.api as sm"
   ]
  },
  {
   "cell_type": "code",
   "execution_count": 2,
   "metadata": {},
   "outputs": [
    {
     "data": {
      "text/html": [
       "<div>\n",
       "<style scoped>\n",
       "    .dataframe tbody tr th:only-of-type {\n",
       "        vertical-align: middle;\n",
       "    }\n",
       "\n",
       "    .dataframe tbody tr th {\n",
       "        vertical-align: top;\n",
       "    }\n",
       "\n",
       "    .dataframe thead th {\n",
       "        text-align: right;\n",
       "    }\n",
       "</style>\n",
       "<table border=\"1\" class=\"dataframe\">\n",
       "  <thead>\n",
       "    <tr style=\"text-align: right;\">\n",
       "      <th></th>\n",
       "      <th>T</th>\n",
       "      <th>Key</th>\n",
       "      <th>Summary</th>\n",
       "      <th>Status</th>\n",
       "      <th>DPT</th>\n",
       "      <th>Estimate</th>\n",
       "      <th>Final</th>\n",
       "      <th>Delta</th>\n",
       "      <th>Points</th>\n",
       "      <th>Tickets</th>\n",
       "    </tr>\n",
       "  </thead>\n",
       "  <tbody>\n",
       "    <tr>\n",
       "      <th>0</th>\n",
       "      <td>Epic</td>\n",
       "      <td>PM-2328</td>\n",
       "      <td>SPIKE: Performance Testing Suggestions</td>\n",
       "      <td>Closed</td>\n",
       "      <td>DAG</td>\n",
       "      <td>10.0</td>\n",
       "      <td>10.0</td>\n",
       "      <td>0.0</td>\n",
       "      <td>2</td>\n",
       "      <td>22</td>\n",
       "    </tr>\n",
       "    <tr>\n",
       "      <th>1</th>\n",
       "      <td>Epic</td>\n",
       "      <td>PM-2318</td>\n",
       "      <td>Reduce  Volume of Generator Tasks</td>\n",
       "      <td>Closed</td>\n",
       "      <td>DAG</td>\n",
       "      <td>4.0</td>\n",
       "      <td>5.0</td>\n",
       "      <td>1.0</td>\n",
       "      <td>14</td>\n",
       "      <td>12</td>\n",
       "    </tr>\n",
       "    <tr>\n",
       "      <th>2</th>\n",
       "      <td>Epic</td>\n",
       "      <td>PM-2150</td>\n",
       "      <td>Pre-compiled headers: Do the science</td>\n",
       "      <td>Closed</td>\n",
       "      <td>SDP</td>\n",
       "      <td>5.0</td>\n",
       "      <td>6.0</td>\n",
       "      <td>1.0</td>\n",
       "      <td>0</td>\n",
       "      <td>22</td>\n",
       "    </tr>\n",
       "    <tr>\n",
       "      <th>3</th>\n",
       "      <td>Epic</td>\n",
       "      <td>PM-2079</td>\n",
       "      <td>Tag BFG severity during analysis</td>\n",
       "      <td>Resolved</td>\n",
       "      <td>DAG</td>\n",
       "      <td>4.0</td>\n",
       "      <td>2.0</td>\n",
       "      <td>-2.0</td>\n",
       "      <td>14</td>\n",
       "      <td>10</td>\n",
       "    </tr>\n",
       "    <tr>\n",
       "      <th>4</th>\n",
       "      <td>Epic</td>\n",
       "      <td>PM-2055</td>\n",
       "      <td>Standardize Performance Data Ingestion</td>\n",
       "      <td>Closed</td>\n",
       "      <td>TIPS</td>\n",
       "      <td>6.0</td>\n",
       "      <td>17.0</td>\n",
       "      <td>11.0</td>\n",
       "      <td>37</td>\n",
       "      <td>26</td>\n",
       "    </tr>\n",
       "  </tbody>\n",
       "</table>\n",
       "</div>"
      ],
      "text/plain": [
       "      T      Key                                 Summary    Status   DPT  \\\n",
       "0  Epic  PM-2328  SPIKE: Performance Testing Suggestions    Closed   DAG   \n",
       "1  Epic  PM-2318       Reduce  Volume of Generator Tasks    Closed   DAG   \n",
       "2  Epic  PM-2150    Pre-compiled headers: Do the science    Closed   SDP   \n",
       "3  Epic  PM-2079        Tag BFG severity during analysis  Resolved   DAG   \n",
       "4  Epic  PM-2055  Standardize Performance Data Ingestion    Closed  TIPS   \n",
       "\n",
       "   Estimate  Final  Delta  Points  Tickets  \n",
       "0      10.0   10.0    0.0       2       22  \n",
       "1       4.0    5.0    1.0      14       12  \n",
       "2       5.0    6.0    1.0       0       22  \n",
       "3       4.0    2.0   -2.0      14       10  \n",
       "4       6.0   17.0   11.0      37       26  "
      ]
     },
     "execution_count": 2,
     "metadata": {},
     "output_type": "execute_result"
    }
   ],
   "source": [
    "data = pd.read_csv('projects.csv')\n",
    "data.head(5)"
   ]
  },
  {
   "cell_type": "code",
   "execution_count": 3,
   "metadata": {},
   "outputs": [
    {
     "name": "stdout",
     "output_type": "stream",
     "text": [
      "                            OLS Regression Results                            \n",
      "==============================================================================\n",
      "Dep. Variable:                  Final   R-squared:                       0.502\n",
      "Model:                            OLS   Adj. R-squared:                  0.473\n",
      "Method:                 Least Squares   F-statistic:                     17.12\n",
      "Date:                Tue, 23 Nov 2021   Prob (F-statistic):           7.17e-06\n",
      "Time:                        13:28:42   Log-Likelihood:                -127.96\n",
      "No. Observations:                  37   AIC:                             261.9\n",
      "Df Residuals:                      34   BIC:                             266.8\n",
      "Df Model:                           2                                         \n",
      "Covariance Type:            nonrobust                                         \n",
      "==============================================================================\n",
      "                 coef    std err          t      P>|t|      [0.025      0.975]\n",
      "------------------------------------------------------------------------------\n",
      "Intercept     -0.8006      3.036     -0.264      0.794      -6.970       5.369\n",
      "Estimate       0.7573      0.237      3.193      0.003       0.275       1.239\n",
      "Tickets        0.3038      0.090      3.371      0.002       0.121       0.487\n",
      "==============================================================================\n",
      "Omnibus:                       27.954   Durbin-Watson:                   1.633\n",
      "Prob(Omnibus):                  0.000   Jarque-Bera (JB):               71.904\n",
      "Skew:                           1.712   Prob(JB):                     2.43e-16\n",
      "Kurtosis:                       8.909   Cond. No.                         77.7\n",
      "==============================================================================\n",
      "\n",
      "Notes:\n",
      "[1] Standard Errors assume that the covariance matrix of the errors is correctly specified.\n"
     ]
    }
   ],
   "source": [
    "model = sm.OLS.from_formula('Final ~ Estimate + Tickets', data=data).fit()\n",
    "print(model.summary())"
   ]
  },
  {
   "cell_type": "code",
   "execution_count": 4,
   "metadata": {},
   "outputs": [
    {
     "name": "stdout",
     "output_type": "stream",
     "text": [
      "Intercept   -0.800584\n",
      "Estimate     0.757266\n",
      "Tickets      0.303824\n",
      "dtype: float64\n",
      "-0.8005842232774532\n"
     ]
    }
   ],
   "source": [
    "print(model.params)\n",
    "print(model.params[0])"
   ]
  },
  {
   "cell_type": "code",
   "execution_count": 5,
   "metadata": {},
   "outputs": [],
   "source": [
    "def prediction(estimate, tickets):\n",
    "    intercept = model.params[0]\n",
    "    estimate_coef = model.params[1]\n",
    "    tickets_coef = model.params[2]\n",
    "    formula = intercept + estimate_coef*estimate + tickets_coef * tickets\n",
    "    return formula\n",
    "    "
   ]
  },
  {
   "cell_type": "markdown",
   "metadata": {},
   "source": [
    "We run a prediction assuming our next project is estimated to take 12 weeks and it will have approximately 20 tickets"
   ]
  },
  {
   "cell_type": "code",
   "execution_count": 6,
   "metadata": {},
   "outputs": [
    {
     "data": {
      "text/plain": [
       "14.363083083794523"
      ]
     },
     "execution_count": 6,
     "metadata": {},
     "output_type": "execute_result"
    }
   ],
   "source": [
    "prediction(12, 20)"
   ]
  }
 ],
 "metadata": {
  "kernelspec": {
   "display_name": "Python 3",
   "language": "python",
   "name": "python3"
  },
  "language_info": {
   "codemirror_mode": {
    "name": "ipython",
    "version": 3
   },
   "file_extension": ".py",
   "mimetype": "text/x-python",
   "name": "python",
   "nbconvert_exporter": "python",
   "pygments_lexer": "ipython3",
   "version": "3.8.5"
  }
 },
 "nbformat": 4,
 "nbformat_minor": 4
}
